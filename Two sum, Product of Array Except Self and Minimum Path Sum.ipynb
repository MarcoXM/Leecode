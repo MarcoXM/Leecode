{
 "cells": [
  {
   "cell_type": "markdown",
   "metadata": {},
   "source": [
    "## Two sum"
   ]
  },
  {
   "cell_type": "markdown",
   "metadata": {},
   "source": [
    "### Solution 1"
   ]
  },
  {
   "cell_type": "code",
   "execution_count": 1,
   "metadata": {},
   "outputs": [],
   "source": [
    "class Solution(object):\n",
    "    def twoSum(self, nums, target):\n",
    "        \"\"\"\n",
    "        :type nums: List[int]\n",
    "        :type target: int\n",
    "        :rtype: List[int]\n",
    "        \"\"\"\n",
    "        answer = []\n",
    "        for num in range(len(nums)):\n",
    "            for num_add in range(num + 1,len(nums)):\n",
    "                if nums[num] + nums[num_add] == target:\n",
    "                    answer.append(num)\n",
    "                    answer.append(num_add)\n",
    "                    \n",
    "                    return answer"
   ]
  },
  {
   "cell_type": "markdown",
   "metadata": {},
   "source": [
    "### Solution 2"
   ]
  },
  {
   "cell_type": "code",
   "execution_count": 2,
   "metadata": {},
   "outputs": [],
   "source": [
    "class Solution(object):\n",
    "    def twoSum(self, nums, target):\n",
    "        \"\"\"\n",
    "        :type nums: List[int]\n",
    "        :type target: int\n",
    "        :rtype: List[int]\n",
    "        \"\"\"\n",
    "        dic = {}\n",
    "        k_index = 0 # key is index in nums\n",
    "        while k_index < len(nums): #building \n",
    "            if k_index not in dic.keys():\n",
    "                dic[k_index] = nums[k_index] #built\n",
    "                \n",
    "            if target - dic[k_index] in dic.values() and nums.index(target - dic[k_index]) != k_index:\n",
    "                \n",
    "                if nums.index(target - dic[k_index]) < k_index:\n",
    "                    result = [nums.index(target - nums[k_index]), k_index]\n",
    "                    \n",
    "              \n",
    "                    return result\n",
    "            k_index = k_index + 1"
   ]
  },
  {
   "cell_type": "markdown",
   "metadata": {},
   "source": [
    "### Solution 3"
   ]
  },
  {
   "cell_type": "code",
   "execution_count": 3,
   "metadata": {},
   "outputs": [],
   "source": [
    "class Solution(object): \n",
    "    def twoSum(self, nums, target):\n",
    "        \"\"\"\n",
    "        :type nums: List[int]\n",
    "        :type target: int\n",
    "        :rtype: List[int]\n",
    "        \"\"\"\n",
    "        dic = {}\n",
    "        for i,v in enumerate(nums):\n",
    "            if dic.get(target - v) != None:\n",
    "                return [dic.get(target - v),i]\n",
    "            else:\n",
    "                dic[v] = i\n",
    "                            "
   ]
  },
  {
   "cell_type": "markdown",
   "metadata": {},
   "source": [
    "## Product of Array Except Self"
   ]
  },
  {
   "cell_type": "markdown",
   "metadata": {},
   "source": [
    "## Solution 1"
   ]
  },
  {
   "cell_type": "code",
   "execution_count": 4,
   "metadata": {},
   "outputs": [],
   "source": [
    "class Solution(object):\n",
    "    def productExceptSelf(self, nums):\n",
    "        \"\"\"\n",
    "        :type nums: List[int]\n",
    "        :rtype: List[int]\n",
    "        \"\"\"\n",
    "        product = 1\n",
    "        n = len(nums)\n",
    "        result =[]\n",
    "        for i in range(n):\n",
    "            result.append(product)\n",
    "            product = product * nums[i]\n",
    "        \n",
    "        bproduct = 1\n",
    "        for j in range(n-1,-1,-1): #Backward\n",
    "            result[j] = result[j] * bproduct\n",
    "            bproduct = bproduct * nums[j]\n",
    "        \n",
    "        return result"
   ]
  },
  {
   "cell_type": "markdown",
   "metadata": {},
   "source": [
    "## Minimum Path Sum"
   ]
  },
  {
   "cell_type": "markdown",
   "metadata": {},
   "source": [
    "### Solution 1"
   ]
  },
  {
   "cell_type": "code",
   "execution_count": 5,
   "metadata": {},
   "outputs": [],
   "source": [
    "class Solution(object): # Dropping a new grid ， and the bottum right figure is the answer.\n",
    "    def minPathSum(self, grid):\n",
    "        \"\"\"\n",
    "        :type grid: List[List[int]]\n",
    "        :rtype: int\n",
    "        \"\"\"\n",
    "        m = len(grid)\n",
    "        n = len(grid[0])\n",
    "        \n",
    "        for row in range(m):\n",
    "            for col in range(n):\n",
    "                if row == 0 and col != 0:\n",
    "                    grid[row][col] = grid[row][col-1] + grid[row][col]\n",
    "                elif row != 0 and col == 0:\n",
    "                    grid[row][col] = grid[row-1][col] + grid[row][col]\n",
    "                elif row != 0 and col != 0:\n",
    "                    grid[row][col] = min(grid[row-1][col],grid[row][col-1]) + grid[row][col]\n",
    "        return grid[m-1][n-1]"
   ]
  }
 ],
 "metadata": {
  "kernelspec": {
   "display_name": "Python 3",
   "language": "python",
   "name": "python3"
  },
  "language_info": {
   "codemirror_mode": {
    "name": "ipython",
    "version": 3
   },
   "file_extension": ".py",
   "mimetype": "text/x-python",
   "name": "python",
   "nbconvert_exporter": "python",
   "pygments_lexer": "ipython3",
   "version": "3.6.8"
  }
 },
 "nbformat": 4,
 "nbformat_minor": 2
}
