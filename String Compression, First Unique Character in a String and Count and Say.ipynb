{
 "cells": [
  {
   "cell_type": "markdown",
   "metadata": {},
   "source": [
    "## 443. String Compression"
   ]
  },
  {
   "cell_type": "markdown",
   "metadata": {},
   "source": [
    "### Method 1"
   ]
  },
  {
   "cell_type": "code",
   "execution_count": 15,
   "metadata": {},
   "outputs": [],
   "source": [
    "class Solution(object):\n",
    "    def compress(self, chars):\n",
    "        \"\"\"\n",
    "        :type chars: List[str]\n",
    "        :rtype: int\n",
    "        \"\"\"\n",
    "        n = len(chars)  \n",
    "        i,j = 0,0\n",
    "        while i < n :\n",
    "            ch, f = chars[i],0\n",
    "            while i < n and ch == chars[i]:\n",
    "                i += 1\n",
    "                f += 1\n",
    "            chars[j],j = ch,j+1\n",
    "            if f > 1:\n",
    "                for c in str(f):\n",
    "                    chars[j],j = c,j+1\n",
    "        \n",
    "        return j"
   ]
  },
  {
   "cell_type": "markdown",
   "metadata": {},
   "source": [
    "## 387. First Unique Character in a String"
   ]
  },
  {
   "cell_type": "markdown",
   "metadata": {},
   "source": [
    "### Method "
   ]
  },
  {
   "cell_type": "code",
   "execution_count": 1,
   "metadata": {},
   "outputs": [],
   "source": [
    "class Solution(object):\n",
    "    def firstUniqChar(self, s):\n",
    "        \"\"\"\n",
    "        :type s: str\n",
    "        :rtype: int\n",
    "        \"\"\"\n",
    "        if len(s) == 0:\n",
    "            return -1\n",
    "        \n",
    "        d = collections.Counter(s)\n",
    "        ans = -1\n",
    "        for x, c in enumerate(s):\n",
    "            if d[c] == 1:\n",
    "                ans = x\n",
    "                break\n",
    "        return ans"
   ]
  },
  {
   "cell_type": "markdown",
   "metadata": {},
   "source": [
    "## 38. Count and Say"
   ]
  },
  {
   "cell_type": "markdown",
   "metadata": {},
   "source": [
    "### Method 1"
   ]
  },
  {
   "cell_type": "code",
   "execution_count": 2,
   "metadata": {},
   "outputs": [],
   "source": [
    "class Solution(object):\n",
    "    def countAndSay(self, n):\n",
    "        \"\"\"\n",
    "        :type n: int\n",
    "        :rtype: str\n",
    "        \"\"\"\n",
    "\n",
    "        ini = '1'\n",
    "        for ins in range(n - 1 ):\n",
    "            i = 0\n",
    "            j = 0\n",
    "            l = len(ini)\n",
    "            pre = ini[0]\n",
    "            ans = []\n",
    "            while i < l :\n",
    "                x,y = ini[i],0\n",
    "                while i < l and ini[i] == x:\n",
    "                    i += 1\n",
    "                    y += 1\n",
    "                ans.append(str(y))\n",
    "                ans.append(x)\n",
    "            ini = ''.join(ans)\n",
    "            \n",
    "        return ini"
   ]
  },
  {
   "cell_type": "code",
   "execution_count": null,
   "metadata": {},
   "outputs": [],
   "source": []
  }
 ],
 "metadata": {
  "kernelspec": {
   "display_name": "Python 3",
   "language": "python",
   "name": "python3"
  },
  "language_info": {
   "codemirror_mode": {
    "name": "ipython",
    "version": 3
   },
   "file_extension": ".py",
   "mimetype": "text/x-python",
   "name": "python",
   "nbconvert_exporter": "python",
   "pygments_lexer": "ipython3",
   "version": "3.6.8"
  }
 },
 "nbformat": 4,
 "nbformat_minor": 2
}
