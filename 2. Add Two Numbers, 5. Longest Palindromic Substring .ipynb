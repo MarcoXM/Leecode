{
 "cells": [
  {
   "cell_type": "markdown",
   "metadata": {},
   "source": [
    "## 2. Add Two Numbers"
   ]
  },
  {
   "cell_type": "code",
   "execution_count": 1,
   "metadata": {},
   "outputs": [],
   "source": [
    "# Definition for singly-linked list.\n",
    "# class ListNode(object):\n",
    "#     def __init__(self, x):\n",
    "#         self.val = x\n",
    "#         self.next = None\n",
    "\n",
    "class Solution(object):\n",
    "    def addTwoNumbers(self, l1, l2):\n",
    "        \"\"\"\n",
    "        :type l1: ListNode\n",
    "        :type l2: ListNode\n",
    "        :rtype: ListNode\n",
    "        \"\"\"\n",
    "        if l1 == None: return l2\n",
    "        if l2 == None: return l1\n",
    "        \n",
    "        flag = 0\n",
    "        dummy = ListNode(0)\n",
    "        curr = dummy\n",
    "        while l1 and l2:\n",
    "            curr.next = ListNode((l1.val + l2.val + flag)%10)\n",
    "            flag = (l1.val + l2.val + flag)/10\n",
    "            l1 = l1.next \n",
    "            l2 = l2.next\n",
    "            curr = curr.next\n",
    "        if l2:\n",
    "            while l2:\n",
    "                curr.next = ListNode((flag + l2.val)%10)\n",
    "                flag = (flag + l2.val)/10\n",
    "                l2 = l2.next\n",
    "                curr = curr.next\n",
    "        \n",
    "        if l1:\n",
    "            while l1:\n",
    "                curr.next = ListNode((flag + l1.val)%10)\n",
    "                flag = (flag + l1.val)/10\n",
    "                l1 = l1.next\n",
    "                curr = curr.next\n",
    "        \n",
    "        if flag == 1:\n",
    "            curr.next = ListNode(1)\n",
    "        \n",
    "        return dummy.next\n"
   ]
  },
  {
   "cell_type": "markdown",
   "metadata": {},
   "source": [
    "## 5. Longest Palindromic Substring\n"
   ]
  },
  {
   "cell_type": "code",
   "execution_count": null,
   "metadata": {},
   "outputs": [],
   "source": [
    "class Solution(object):\n",
    "    def longestPalindrome(self, s):\n",
    "        \"\"\"\n",
    "        :type s: str\n",
    "        :rtype: str\n",
    "        \"\"\"\n",
    "        if len(s) <= 1:\n",
    "            return s\n",
    "        ans = None\n",
    "        for l in range(1,len(s)):\n",
    "            for i in range(0,len(s)-l):\n",
    "                if s[i:i+l] == s[i:i+l][::-1]:\n",
    "                    ans = s[i:i+l]\n",
    "        \n",
    "        return ans"
   ]
  },
  {
   "cell_type": "markdown",
   "metadata": {},
   "source": [
    "## 5. Longest Palindromic Substring"
   ]
  },
  {
   "cell_type": "code",
   "execution_count": 1,
   "metadata": {},
   "outputs": [],
   "source": [
    "class Solution(object):\n",
    "    def longestPalindrome(self, s):\n",
    "        \"\"\"\n",
    "        :type s: str\n",
    "        :rtype: str\n",
    "        \"\"\"\n",
    "        if len(s) <= 1:\n",
    "            return s\n",
    "        head = 0\n",
    "        w = 1\n",
    "        for i in range(len(s)):\n",
    "            \n",
    "            if i-w>=1 and s[i-w-1:i+1]==s[i-w-1:i+1][::-1]:\n",
    "                head=i-w-1\n",
    "                w+=2\n",
    "                continue\n",
    "                \n",
    "            if i-w>=0 and s[i-w:i+1]==s[i-w:i+1][::-1]:\n",
    "                head=i-w\n",
    "                w+=1\n",
    "\n",
    "        \n",
    "        return s[head:head+w]"
   ]
  },
  {
   "cell_type": "markdown",
   "metadata": {},
   "source": [
    "## 3. Longest Substring Without Repeating Characters"
   ]
  },
  {
   "cell_type": "code",
   "execution_count": 2,
   "metadata": {},
   "outputs": [],
   "source": [
    "class Solution(object):\n",
    "    def lengthOfLongestSubstring(self, s):\n",
    "        \"\"\"\n",
    "        :type s: str\n",
    "        :rtype: int\n",
    "        \"\"\"\n",
    "        ans, start, end = 0, 0, 0\n",
    "        countDict = {}\n",
    "        for c in s:\n",
    "            end += 1\n",
    "            countDict[c] = countDict.get(c, 0) + 1\n",
    "            while countDict[c] > 1:\n",
    "                countDict[s[start]] -= 1\n",
    "                start += 1\n",
    "            ans = max(ans, end - start)\n",
    "        return ans"
   ]
  },
  {
   "cell_type": "code",
   "execution_count": null,
   "metadata": {},
   "outputs": [],
   "source": []
  }
 ],
 "metadata": {
  "kernelspec": {
   "display_name": "Python 3",
   "language": "python",
   "name": "python3"
  },
  "language_info": {
   "codemirror_mode": {
    "name": "ipython",
    "version": 3
   },
   "file_extension": ".py",
   "mimetype": "text/x-python",
   "name": "python",
   "nbconvert_exporter": "python",
   "pygments_lexer": "ipython3",
   "version": "3.6.3"
  }
 },
 "nbformat": 4,
 "nbformat_minor": 2
}
