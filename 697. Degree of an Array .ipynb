{
 "cells": [
  {
   "cell_type": "markdown",
   "metadata": {},
   "source": [
    "## 697. Degree of an Array "
   ]
  },
  {
   "cell_type": "code",
   "execution_count": 1,
   "metadata": {},
   "outputs": [],
   "source": [
    "class Solution(object):\n",
    "    def findShortestSubArray(self, nums):\n",
    "        \"\"\"\n",
    "        :type nums: List[int]\n",
    "        :rtype: int\n",
    "        \"\"\"\n",
    "        \n",
    "        nums_set = set(nums)\n",
    "        if len(nums) == len(nums_set):\n",
    "            return 1\n",
    "        \n",
    "        num_dict = {num:nums.count(num) for num in nums_set}\n",
    "\n",
    "        max_ = max(num_dict.values())\n",
    "        number = [num for num in nums_set if num_dict[num] == max_]\n",
    "        \n",
    "        scale = 1000000\n",
    "        for num in number:\n",
    "            shows = [i for i,n in enumerate(nums) if n == num]\n",
    "            show_degree = max(shows) - min(shows) + 1\n",
    "            if scale > show_degree:\n",
    "                scale = show_degree\n",
    "        return min(scale,show_degree)\n",
    "        "
   ]
  },
  {
   "cell_type": "markdown",
   "metadata": {},
   "source": [
    "### 456. 132 Pattern"
   ]
  },
  {
   "cell_type": "code",
   "execution_count": 2,
   "metadata": {},
   "outputs": [],
   "source": [
    "class Solution(object):\n",
    "    def find132pattern(self, nums):\n",
    "        \"\"\"\n",
    "        :type nums: List[int]\n",
    "        :rtype: bool\n",
    "        \"\"\"\n",
    "        if len(nums) <=2:\n",
    "            return False\n",
    "        third = float('-inf')\n",
    "        stack = []\n",
    "        for i in range(len(nums)-1, -1, -1):\n",
    "            if nums[i] < third:\n",
    "                return True\n",
    "            else:\n",
    "                while stack and stack[-1] < nums[i]:\n",
    "                    third = stack.pop()\n",
    "            stack.append(nums[i])\n",
    "        return False"
   ]
  },
  {
   "cell_type": "markdown",
   "metadata": {},
   "source": [
    "### 402. Remove K Digits"
   ]
  },
  {
   "cell_type": "code",
   "execution_count": 5,
   "metadata": {},
   "outputs": [
    {
     "data": {
      "text/plain": [
       "True"
      ]
     },
     "execution_count": 5,
     "metadata": {},
     "output_type": "execute_result"
    }
   ],
   "source": [
    "class Solution(object):\n",
    "    def removeKdigits(self, num, k):\n",
    "        \"\"\"\n",
    "        :type num: str\n",
    "        :type k: int\n",
    "        :rtype: str\n",
    "        \"\"\"\n",
    "        len_ = len(num)\n",
    "        if len_<=k:\n",
    "            return '0'\n",
    "        stack = ['0']\n",
    "        \n",
    "        for i in range(len_):\n",
    "            while int(stack[-1]) > int(num[i]) and len(stack) > i - k + 1:\n",
    "                stack.pop()\n",
    "            stack.append(num[i])\n",
    "            \n",
    "            while len(stack) > len_ - k + 1:\n",
    "                stack.pop()\n",
    "        \n",
    "        return str(int(''.join(stack)))\n",
    "        "
   ]
  }
 ],
 "metadata": {
  "kernelspec": {
   "display_name": "Python 3",
   "language": "python",
   "name": "python3"
  },
  "language_info": {
   "codemirror_mode": {
    "name": "ipython",
    "version": 3
   },
   "file_extension": ".py",
   "mimetype": "text/x-python",
   "name": "python",
   "nbconvert_exporter": "python",
   "pygments_lexer": "ipython3",
   "version": "3.7.3"
  }
 },
 "nbformat": 4,
 "nbformat_minor": 2
}
