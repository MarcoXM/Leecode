{
 "cells": [
  {
   "cell_type": "markdown",
   "metadata": {},
   "source": [
    "## 101. Symmetric Tree"
   ]
  },
  {
   "cell_type": "markdown",
   "metadata": {},
   "source": [
    "### Recursive"
   ]
  },
  {
   "cell_type": "code",
   "execution_count": 2,
   "metadata": {},
   "outputs": [],
   "source": [
    "# Definition for a binary tree node.\n",
    "# class TreeNode(object):\n",
    "#     def __init__(self, x):\n",
    "#         self.val = x\n",
    "#         self.left = None\n",
    "#         self.right = None\n",
    "\n",
    "class Solution(object):\n",
    "    def isSymmetric(self, root):\n",
    "        \"\"\"\n",
    "        :type root: TreeNode\n",
    "        :rtype: bool\n",
    "        \"\"\"\n",
    "        if root:\n",
    "            return self.find(root.left,root.right)\n",
    "        return True\n",
    "    \n",
    "    def find(self,l,r):  #left : l;right : r\n",
    "        if l == None and r == None: \n",
    "            return True\n",
    "        if l and r and l.val == r.val:\n",
    "            return self.find(l.right,r.left) and self.find(l.left,r.right)\n",
    "        return False\n",
    "        \n"
   ]
  },
  {
   "cell_type": "markdown",
   "metadata": {},
   "source": [
    "### Iterately"
   ]
  },
  {
   "cell_type": "code",
   "execution_count": 3,
   "metadata": {},
   "outputs": [],
   "source": [
    "# Definition for a binary tree node.\n",
    "# class TreeNode(object):\n",
    "#     def __init__(self, x):\n",
    "#         self.val = x\n",
    "#         self.left = None\n",
    "#         self.right = None\n",
    "\n",
    "class Solution(object):\n",
    "    def isSymmetric(self, root):\n",
    "        \"\"\"\n",
    "        :type root: TreeNode\n",
    "        :rtype: bool\n",
    "        \"\"\"\n",
    "        if not root:\n",
    "            return True \n",
    "        stackl = [root.left]\n",
    "        stackr = [root.right]\n",
    "        while len(stackl)>0 and len(stackr)>0:\n",
    "            testl = stackl.pop()\n",
    "            testr = stackr.pop()\n",
    "            if not testl and not testr:\n",
    "                continue\n",
    "            elif not testl or not testr:\n",
    "                return False\n",
    "            if testl.val != testr.val:\n",
    "                return False\n",
    "            \n",
    "            stackl.append(testl.left)\n",
    "            stackl.append(testl.right)\n",
    "            stackr.append(testr.right)\n",
    "            stackr.append(testr.left)\n",
    "        return len(stackl) == 0 and len(stackr) == 0\n",
    "        \n",
    "        "
   ]
  },
  {
   "cell_type": "markdown",
   "metadata": {},
   "source": [
    "## 680. Valid Palindrome II"
   ]
  },
  {
   "cell_type": "code",
   "execution_count": 4,
   "metadata": {},
   "outputs": [],
   "source": [
    "class Solution(object):\n",
    "    def validPalindrome(self, s):\n",
    "        \"\"\"\n",
    "        :type s: str\n",
    "        :rtype: bool\n",
    "        \"\"\"\n",
    "        if len(s) <= 1:\n",
    "            return True\n",
    "        \n",
    "        n,m = 0,len(s)-1\n",
    "        while n <= m :\n",
    "            if s[n] == s[m]:\n",
    "                n += 1\n",
    "                m -= 1\n",
    "                \n",
    "            else:\n",
    "                return s[n:m] == s[n:m][::-1] or s[n + 1:m + 1] == s[n + 1:m + 1][::-1]        \n",
    "        return True"
   ]
  },
  {
   "cell_type": "markdown",
   "metadata": {},
   "source": [
    "## 628. Maximum Product of Three Numbers"
   ]
  },
  {
   "cell_type": "code",
   "execution_count": 5,
   "metadata": {},
   "outputs": [],
   "source": [
    "class Solution(object):\n",
    "    def maximumProduct(self, nums):\n",
    "        \"\"\"\n",
    "        :type nums: List[int]\n",
    "        :rtype: int\n",
    "        \"\"\"\n",
    "        ans = pa = pb = pc = None\n",
    "        na = nb = 0\n",
    "        for n in nums:\n",
    "            if n > pa:\n",
    "                pa,pb,pc = n, pa, pb\n",
    "            elif n > pb:\n",
    "                pb,pc = n,pb\n",
    "            elif n > pc:\n",
    "                pc = n\n",
    "            \n",
    "            if n < na:\n",
    "                na,nb = n,na\n",
    "            elif n < nb:\n",
    "                nb = n\n",
    "        return max(na * nb * pa, pa * pb * pc)"
   ]
  },
  {
   "cell_type": "markdown",
   "metadata": {},
   "source": [
    "## 532. K-diff Pairs in an Array"
   ]
  },
  {
   "cell_type": "code",
   "execution_count": 21,
   "metadata": {},
   "outputs": [],
   "source": [
    "class Solution(object):\n",
    "    def findPairs(self, nums, k):\n",
    "        \"\"\"\n",
    "        :type nums: List[int]\n",
    "        :type k: int\n",
    "        :rtype: int\n",
    "        \"\"\"\n",
    "        ans = 0\n",
    "        if k < 0:\n",
    "            return ans\n",
    "        elif k == 0:\n",
    "            sc = collections.Counter(nums)\n",
    "            for i,v in sc.items():\n",
    "                if v >= 2:\n",
    "                    ans += 1\n",
    "        else:\n",
    "            sn = set(nums)\n",
    "            for n in sn:\n",
    "                if n + k in sn:\n",
    "                    ans += 1\n",
    "        return ans\n",
    "        "
   ]
  },
  {
   "cell_type": "markdown",
   "metadata": {},
   "source": [
    "## 709. To Lower Case"
   ]
  },
  {
   "cell_type": "code",
   "execution_count": 22,
   "metadata": {},
   "outputs": [],
   "source": [
    "class Solution(object):\n",
    "    def toLowerCase(self, str):\n",
    "        \"\"\"\n",
    "        :type str: str\n",
    "        :rtype: str\n",
    "        \"\"\"\n",
    "        ans = \"\"\n",
    "        for s in str:\n",
    "            if ord(s)>=65 and ord(s) <= 90:\n",
    "                ans += chr(ord(s)+32)\n",
    "            else:\n",
    "                ans += chr(ord(s))\n",
    "        return ans\n",
    "                          \n",
    "                          "
   ]
  },
  {
   "cell_type": "code",
   "execution_count": null,
   "metadata": {},
   "outputs": [],
   "source": []
  },
  {
   "cell_type": "code",
   "execution_count": null,
   "metadata": {},
   "outputs": [],
   "source": []
  }
 ],
 "metadata": {
  "kernelspec": {
   "display_name": "Python 3",
   "language": "python",
   "name": "python3"
  },
  "language_info": {
   "codemirror_mode": {
    "name": "ipython",
    "version": 3
   },
   "file_extension": ".py",
   "mimetype": "text/x-python",
   "name": "python",
   "nbconvert_exporter": "python",
   "pygments_lexer": "ipython3",
   "version": "3.6.8"
  }
 },
 "nbformat": 4,
 "nbformat_minor": 2
}
