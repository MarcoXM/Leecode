{
 "cells": [
  {
   "cell_type": "markdown",
   "metadata": {},
   "source": [
    "## 453. Minimum Moves to Equal Array Elements"
   ]
  },
  {
   "cell_type": "markdown",
   "metadata": {},
   "source": [
    "### Method 1"
   ]
  },
  {
   "cell_type": "code",
   "execution_count": 1,
   "metadata": {},
   "outputs": [],
   "source": [
    "class Solution(object):\n",
    "    def minMoves(self, nums):\n",
    "        \"\"\"\n",
    "        :type nums: List[int]\n",
    "        :rtype: int\n",
    "        \"\"\"\n",
    "        return sum(nums) - min(nums) * len(nums)\n",
    "        "
   ]
  },
  {
   "cell_type": "markdown",
   "metadata": {},
   "source": [
    "### Method2"
   ]
  },
  {
   "cell_type": "code",
   "execution_count": 2,
   "metadata": {},
   "outputs": [],
   "source": [
    "class Solution:\n",
    "    def minMoves(self, nums):\n",
    "        \"\"\"\n",
    "        :type nums: List[int]\n",
    "        :rtype: int\n",
    "        \"\"\"\n",
    "        nums.sort()\n",
    "        ans = 0\n",
    "        for num in nums:\n",
    "            ans += num - nums[0]\n",
    "        return ans\n"
   ]
  },
  {
   "cell_type": "markdown",
   "metadata": {},
   "source": [
    "## 181. Employees Earning More Than Their Managers"
   ]
  },
  {
   "cell_type": "code",
   "execution_count": 3,
   "metadata": {},
   "outputs": [
    {
     "ename": "SyntaxError",
     "evalue": "invalid syntax (<ipython-input-3-9618f473efce>, line 2)",
     "output_type": "error",
     "traceback": [
      "\u001b[0;36m  File \u001b[0;32m\"<ipython-input-3-9618f473efce>\"\u001b[0;36m, line \u001b[0;32m2\u001b[0m\n\u001b[0;31m    SELECT e1.Name AS Employee\u001b[0m\n\u001b[0m            ^\u001b[0m\n\u001b[0;31mSyntaxError\u001b[0m\u001b[0;31m:\u001b[0m invalid syntax\n"
     ]
    }
   ],
   "source": [
    "# Write your MySQL query statement below\n",
    "SELECT e1.Name AS Employee \n",
    "FROM Employee e1, Employee e2\n",
    "WHERE e1.ManagerId = e2.Id\n",
    " AND e1.Salary > e2.Salary"
   ]
  },
  {
   "cell_type": "markdown",
   "metadata": {},
   "source": [
    "## 252. Meeting Rooms"
   ]
  },
  {
   "cell_type": "code",
   "execution_count": 6,
   "metadata": {},
   "outputs": [],
   "source": [
    "class Solution(object):\n",
    "    def canAttendMeetings(self, intervals):\n",
    "        \"\"\"\n",
    "        :type intervals: List[List[int]]\n",
    "        :rtype: bool\n",
    "        \"\"\"\n",
    "        if len(intervals) <= 1:\n",
    "            return True\n",
    "        \n",
    "        inter = sorted(intervals)\n",
    "        curr_s = inter[0][0]\n",
    "        curr_e = inter[0][1]\n",
    "        \n",
    "        for i in range(1,len(inter)):\n",
    "            if inter[i][0] < curr_e:\n",
    "                return False\n",
    "            curr_s = inter[i][0]\n",
    "            curr_e = inter[i][1]\n",
    "            \n",
    "        return True\n",
    "            \n",
    "            "
   ]
  },
  {
   "cell_type": "markdown",
   "metadata": {},
   "source": [
    "##  724. Find Pivot Index\n"
   ]
  },
  {
   "cell_type": "code",
   "execution_count": 8,
   "metadata": {},
   "outputs": [],
   "source": [
    "class Solution(object):\n",
    "    def pivotIndex(self, nums):\n",
    "        \"\"\"\n",
    "        :type nums: List[int]\n",
    "        :rtype: int\n",
    "        \"\"\"\n",
    "        if len(nums)== 0:\n",
    "            return -1\n",
    "        left = 0\n",
    "        right = sum(nums)\n",
    "        for i in range(len(nums)):\n",
    "            right -= nums[i]\n",
    "            if right == left :\n",
    "                return i\n",
    "            else:\n",
    "                left += nums[i]\n",
    "        return -1"
   ]
  },
  {
   "cell_type": "markdown",
   "metadata": {},
   "source": [
    "## 118. Pascal's Triangle"
   ]
  },
  {
   "cell_type": "code",
   "execution_count": 9,
   "metadata": {},
   "outputs": [],
   "source": [
    "class Solution(object):\n",
    "    def generate(self, numRows):\n",
    "        \"\"\"\n",
    "        :type numRows: int\n",
    "        :rtype: List[List[int]]\n",
    "        \"\"\"\n",
    "        if numRows == 0:\n",
    "            return []\n",
    "        if numRows == 1:\n",
    "            return [[1]]\n",
    "        if numRows == 2:\n",
    "            return [[1], [1, 1]]\n",
    "        if numRows > 2:\n",
    "            ans = [[] for i in range(numRows)]\n",
    "            for i in range(numRows):\n",
    "                ans[i] = [1 for j in range(i+1)]\n",
    "        \n",
    "            for i in range(2,numRows):\n",
    "                for j in range(1, i):\n",
    "                    ans[i][j] = ans[i-1][j-1] + ans[i-1][j]\n",
    "        return ans"
   ]
  },
  {
   "cell_type": "code",
   "execution_count": null,
   "metadata": {},
   "outputs": [],
   "source": []
  },
  {
   "cell_type": "code",
   "execution_count": null,
   "metadata": {},
   "outputs": [],
   "source": [
    "class Solution(object):\n",
    "    def nextGreaterElement(self, nums1, nums2):\n",
    "        \"\"\"\n",
    "        :type nums1: List[int]\n",
    "        :type nums2: List[int]\n",
    "        :rtype: List[int]\n",
    "        \"\"\"\n",
    "        ans = []\n",
    "        \n",
    "        for i in range(len(nums1)):\n",
    "            index = -1\n",
    "            for j in range(len(nums2)):\n",
    "                if nums2[j] == nums1[i]:\n",
    "                    index = j\n",
    "                    break\n",
    "            while index < len(nums2) and nums1[i] >= nums2[index]:\n",
    "                index += 1\n",
    "                \n",
    "            if index == len(nums2):\n",
    "                ans.append(-1)\n",
    "            else:\n",
    "                ans.append(nums2[index]) \n",
    "        return ans\n",
    "         "
   ]
  },
  {
   "cell_type": "code",
   "execution_count": 10,
   "metadata": {},
   "outputs": [],
   "source": [
    "class Solution(object):\n",
    "    def nextGreaterElement(self, nums1, nums2):\n",
    "        \"\"\"\n",
    "        :type nums1: List[int]\n",
    "        :type nums2: List[int]\n",
    "        :rtype: List[int]\n",
    "        \"\"\"\n",
    "        ans = []\n",
    "        dic2 = {}\n",
    "        for i,v in enumerate(nums2):\n",
    "            dic2[v] = i\n",
    "        \n",
    "        for nums in nums1:\n",
    "            index = dic2[nums]\n",
    "            while index < len(nums2) and nums >= nums2[index]:\n",
    "                index += 1\n",
    "                \n",
    "            if index == len(nums2):\n",
    "                ans.append(-1)\n",
    "            else:\n",
    "                ans.append(nums2[index]) \n",
    "        return ans"
   ]
  },
  {
   "cell_type": "code",
   "execution_count": null,
   "metadata": {},
   "outputs": [],
   "source": []
  }
 ],
 "metadata": {
  "kernelspec": {
   "display_name": "Python 3",
   "language": "python",
   "name": "python3"
  },
  "language_info": {
   "codemirror_mode": {
    "name": "ipython",
    "version": 3
   },
   "file_extension": ".py",
   "mimetype": "text/x-python",
   "name": "python",
   "nbconvert_exporter": "python",
   "pygments_lexer": "ipython3",
   "version": "3.6.8"
  }
 },
 "nbformat": 4,
 "nbformat_minor": 2
}
