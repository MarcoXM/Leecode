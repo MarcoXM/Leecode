{
 "cells": [
  {
   "cell_type": "code",
   "execution_count": 1,
   "metadata": {},
   "outputs": [],
   "source": [
    "class Solution(object):\n",
    "    def buddyStrings(self, A, B):\n",
    "        \"\"\"\n",
    "        :type A: str\n",
    "        :type B: str\n",
    "        :rtype: bool\n",
    "        \"\"\"\n",
    "        if len(A)!=len(B):\n",
    "            return False\n",
    "        \n",
    "        \n",
    "        ans = []\n",
    "        \n",
    "        for i in range(len(A)):\n",
    "            if A[i] != B[i]:\n",
    "                ans.append(i)\n",
    "        \n",
    "        answer = len(ans)\n",
    "        \n",
    "        if answer == 0:\n",
    "            counter = collections.Counter(A)\n",
    "            for a in A:\n",
    "                if a in counter and counter[a]>=2:\n",
    "                    return True\n",
    "                else:\n",
    "                    False\n",
    "        if answer != 2:\n",
    "            return False\n",
    "        return A[ans[0]] == B[ans[1]] and A[ans[1]] == B[ans[0]]\n",
    "        "
   ]
  },
  {
   "cell_type": "markdown",
   "metadata": {},
   "source": [
    "## 414. Third Maximum Number"
   ]
  },
  {
   "cell_type": "code",
   "execution_count": 2,
   "metadata": {},
   "outputs": [],
   "source": [
    "class Solution(object):\n",
    "    def thirdMax(self, nums):\n",
    "        \"\"\"\n",
    "        :type nums: List[int]\n",
    "        :rtype: int\n",
    "        \"\"\"\n",
    "        \n",
    "        a=b=c = None\n",
    "        \n",
    "        for n in nums:\n",
    "            if n > a:\n",
    "                a,b,c = n,a,b\n",
    "\n",
    "            elif a > n > b :\n",
    "                b,c = n,b\n",
    "            elif b>n>c:\n",
    "                c = n\n",
    "        \n",
    "        \n",
    "        if c is not None:\n",
    "            return c\n",
    "        else:\n",
    "            return a"
   ]
  },
  {
   "cell_type": "markdown",
   "metadata": {},
   "source": [
    "## 168. Excel Sheet Column Title"
   ]
  },
  {
   "cell_type": "code",
   "execution_count": 3,
   "metadata": {},
   "outputs": [],
   "source": [
    "class Solution(object):\n",
    "    def convertToTitle(self, n):\n",
    "        \"\"\"\n",
    "        :type n: int\n",
    "        :rtype: str\n",
    "        \"\"\"\n",
    "        ans = ''\n",
    "        while n:\n",
    "            ans = chr(ord('A') + (n - 1) % 26) + ans\n",
    "            n = (n - 1) / 26\n",
    "        return ans"
   ]
  },
  {
   "cell_type": "markdown",
   "metadata": {},
   "source": [
    "## 408. Valid Word Abbreviation"
   ]
  },
  {
   "cell_type": "code",
   "execution_count": 4,
   "metadata": {},
   "outputs": [],
   "source": [
    "class Solution(object):\n",
    "    def validWordAbbreviation(self, word, abbr):\n",
    "        \"\"\"\n",
    "        :type word: str\n",
    "        :type abbr: str\n",
    "        :rtype: bool\n",
    "        \"\"\"\n",
    "        s = len(word)\n",
    "        cnt = cur = 0\n",
    "        for w in abbr:\n",
    "            if w.isdigit():\n",
    "                \n",
    "                if w == '0' and cnt == 0:\n",
    "                    return False\n",
    "                \n",
    "                cnt = cnt * 10 + int(w)\n",
    "                \n",
    "            else:\n",
    "                cur += cnt\n",
    "                cnt = 0\n",
    "                if cur >= s or word[cur] != w:\n",
    "                    return False\n",
    "                cur += 1\n",
    "        return cur + cnt == s"
   ]
  },
  {
   "cell_type": "markdown",
   "metadata": {},
   "source": [
    "## 665. Non-decreasing Array"
   ]
  },
  {
   "cell_type": "code",
   "execution_count": 5,
   "metadata": {},
   "outputs": [],
   "source": [
    "class Solution(object):\n",
    "    def checkPossibility(self, nums):\n",
    "        \"\"\"\n",
    "        :type nums: List[int]\n",
    "        :rtype: bool\n",
    "        \"\"\"\n",
    "        \n",
    "        n = 1\n",
    "        for i in range(len(nums)):\n",
    "            if i and nums[i] < nums[i-1]:\n",
    "                if n == 0:\n",
    "                    return False\n",
    "                n -= 1\n",
    "                if i > 1 and nums[i] <= nums[i-2]:\n",
    "                    nums[i] = nums[i - 1]\n",
    "        return True    \n",
    "                \n",
    "                \n",
    "        "
   ]
  },
  {
   "cell_type": "code",
   "execution_count": null,
   "metadata": {},
   "outputs": [],
   "source": []
  }
 ],
 "metadata": {
  "kernelspec": {
   "display_name": "Python 3",
   "language": "python",
   "name": "python3"
  },
  "language_info": {
   "codemirror_mode": {
    "name": "ipython",
    "version": 3
   },
   "file_extension": ".py",
   "mimetype": "text/x-python",
   "name": "python",
   "nbconvert_exporter": "python",
   "pygments_lexer": "ipython3",
   "version": "3.6.3"
  }
 },
 "nbformat": 4,
 "nbformat_minor": 2
}
