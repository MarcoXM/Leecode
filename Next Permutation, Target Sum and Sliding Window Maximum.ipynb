{
 "cells": [
  {
   "cell_type": "markdown",
   "metadata": {},
   "source": [
    "## Next Permutation"
   ]
  },
  {
   "cell_type": "markdown",
   "metadata": {},
   "source": [
    "### Solution 1"
   ]
  },
  {
   "cell_type": "code",
   "execution_count": 1,
   "metadata": {},
   "outputs": [],
   "source": [
    "class Solution(object):\n",
    "    def nextPermutation(self, nums):\n",
    "        \"\"\"\n",
    "        :type nums: List[int]\n",
    "        :rtype: None Do not return anything, modify nums in-place instead.\n",
    "        \"\"\"\n",
    "        if len(nums) == 1 :\n",
    "            return nums\n",
    "        \n",
    "        breakp = -1\n",
    "        for i in range(len(nums)-2,-1,-1): #backward pair comparation \n",
    "            if nums[i] < nums[i+1]:\n",
    "                breakp = i\n",
    "                break\n",
    "                \n",
    "        if breakp == -1: # For descending list\n",
    "            nums.reverse()\n",
    "            return nums\n",
    "        else:\n",
    "            for i in range(len(nums)-1,breakp,-1):\n",
    "                if nums[i] > nums[breakp]:\n",
    "                    nums[breakp],nums[i] = nums[i],nums[breakp]\n",
    "                    break\n",
    "            nums[breakp+1:len(nums)]=nums[breakp+1:len(nums)][::-1]\n",
    "        \n",
    "        return nums"
   ]
  },
  {
   "cell_type": "markdown",
   "metadata": {},
   "source": [
    "## Target Sum "
   ]
  },
  {
   "cell_type": "markdown",
   "metadata": {},
   "source": [
    "### solution 1 "
   ]
  },
  {
   "cell_type": "code",
   "execution_count": 2,
   "metadata": {},
   "outputs": [],
   "source": [
    "class Solution(object):\n",
    "    def findTargetSumWays(self, nums, S):\n",
    "        \"\"\"\n",
    "        :type nums: List[int]\n",
    "        :type S: int\n",
    "        :rtype: int\n",
    "        \"\"\"\n",
    "        sum_nums = sum(nums)\n",
    "        if sum_nums < S or -sum_nums > S:\n",
    "            return 0\n",
    "        \n",
    "        len_nums = len(nums)\n",
    "        dp = [[0]*(2*sum_nums + 1) for _ in range(len_nums+1)]\n",
    "        dp[0][sum_nums] = 1\n",
    "        for i in range(1, len_nums + 1):\n",
    "            for j in range(2*sum_nums + 1):\n",
    "                if j + nums[i - 1] < 2*sum_nums + 1:\n",
    "                    dp[i][j] += dp[i - 1][j + nums[i - 1]]\n",
    "                if j - nums[i - 1] >= 0:\n",
    "                    dp[i][j] += dp[i - 1][j - nums[i - 1]]\n",
    "                    \n",
    "        return dp[len_nums][sum_nums + S]"
   ]
  },
  {
   "cell_type": "markdown",
   "metadata": {},
   "source": [
    "### solution 2"
   ]
  },
  {
   "cell_type": "code",
   "execution_count": 3,
   "metadata": {},
   "outputs": [],
   "source": [
    "from collections import Counter"
   ]
  },
  {
   "cell_type": "code",
   "execution_count": 4,
   "metadata": {},
   "outputs": [],
   "source": [
    "class Solution(object):\n",
    "    def findTargetSumWays(self, nums, S):\n",
    "        \"\"\"\n",
    "        :type nums: List[int]\n",
    "        :type S: int\n",
    "        :rtype: int\n",
    "        \"\"\"\n",
    "        dp = Counter()\n",
    "        print(dp)\n",
    "        for n in nums:\n",
    "            ndp = Counter()\n",
    "            for sgn in (1, -1):\n",
    "                for k in dp.keys():\n",
    "                    ndp[k + n * sgn] += dp[k]\n",
    "            dp = ndp\n",
    "        return dp[S]"
   ]
  },
  {
   "cell_type": "markdown",
   "metadata": {},
   "source": [
    "## Sliding Window Maximum"
   ]
  },
  {
   "cell_type": "markdown",
   "metadata": {},
   "source": [
    "### Method 1"
   ]
  },
  {
   "cell_type": "code",
   "execution_count": 16,
   "metadata": {},
   "outputs": [],
   "source": [
    "\n",
    "class Solution(object):\n",
    "    def maxSlidingWindow(self, nums, k):\n",
    "        \"\"\"\n",
    "        :type nums: List[int]\n",
    "        :type k: int\n",
    "        :rtype: List[int]\n",
    "        \"\"\"\n",
    "        if len(nums) == 0:\n",
    "            return []\n",
    "        maxer = []\n",
    "        for i in range(len(nums)-k+1):\n",
    "            maxs = max(nums[i:i+k])\n",
    "            maxer.append(maxs)\n",
    "        return maxer"
   ]
  },
  {
   "cell_type": "markdown",
   "metadata": {},
   "source": [
    "### Method 2"
   ]
  },
  {
   "cell_type": "code",
   "execution_count": 23,
   "metadata": {},
   "outputs": [],
   "source": [
    "from collections import deque # using deque"
   ]
  },
  {
   "cell_type": "code",
   "execution_count": 67,
   "metadata": {},
   "outputs": [],
   "source": [
    "class Solution(object):\n",
    "    def maxSlidingWindow(self, nums, k):\n",
    "        \"\"\"\n",
    "        :type nums: List[int]\n",
    "        :type k: int\n",
    "        :rtype: List[int]\n",
    "        \"\"\"\n",
    "        dq = deque() #initial deque to keep the index\n",
    "        maxer = []\n",
    "        for i in range(len(nums)): \n",
    "            while dq and nums[i] >= nums[dq[-1]]: # last one is the greater than formers or not:\n",
    "                dq.pop()\n",
    "            dq.append(i) \n",
    "            if dq[0] == i - k: # moving forward, the head in the original index figure\n",
    "                dq.popleft()\n",
    "            if i >= k - 1: # moving to the end\n",
    "                maxer.append(nums[dq[0]])\n",
    "        return maxer"
   ]
  },
  {
   "cell_type": "code",
   "execution_count": 68,
   "metadata": {},
   "outputs": [],
   "source": [
    "s= Solution()"
   ]
  },
  {
   "cell_type": "code",
   "execution_count": 69,
   "metadata": {},
   "outputs": [],
   "source": [
    "d = [1,3,-1,-3,5,3,6,7]"
   ]
  },
  {
   "cell_type": "code",
   "execution_count": 70,
   "metadata": {},
   "outputs": [
    {
     "data": {
      "text/plain": [
       "[3, 3, 5, 5, 6, 7]"
      ]
     },
     "execution_count": 70,
     "metadata": {},
     "output_type": "execute_result"
    }
   ],
   "source": [
    "s.maxSlidingWindow(d,3)"
   ]
  },
  {
   "cell_type": "code",
   "execution_count": 65,
   "metadata": {},
   "outputs": [
    {
     "name": "stdout",
     "output_type": "stream",
     "text": [
      "deque([0])\n",
      "deque([]) -----\n",
      "deque([1])\n",
      "deque([1, 2])\n",
      "3 3 5 5 6 7\n"
     ]
    }
   ],
   "source": [
    "printMax(d,len(d),3)"
   ]
  },
  {
   "cell_type": "code",
   "execution_count": 56,
   "metadata": {},
   "outputs": [
    {
     "data": {
      "text/plain": [
       "[1, 3, -1, -3, 5, 3, 6, 7]"
      ]
     },
     "execution_count": 56,
     "metadata": {},
     "output_type": "execute_result"
    }
   ],
   "source": [
    "d"
   ]
  },
  {
   "cell_type": "code",
   "execution_count": null,
   "metadata": {},
   "outputs": [],
   "source": []
  }
 ],
 "metadata": {
  "kernelspec": {
   "display_name": "Python 3",
   "language": "python",
   "name": "python3"
  },
  "language_info": {
   "codemirror_mode": {
    "name": "ipython",
    "version": 3
   },
   "file_extension": ".py",
   "mimetype": "text/x-python",
   "name": "python",
   "nbconvert_exporter": "python",
   "pygments_lexer": "ipython3",
   "version": "3.6.8"
  }
 },
 "nbformat": 4,
 "nbformat_minor": 2
}
