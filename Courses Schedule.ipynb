{
 "cells": [
  {
   "cell_type": "markdown",
   "metadata": {},
   "source": [
    "## Course schedule\n"
   ]
  },
  {
   "cell_type": "markdown",
   "metadata": {},
   "source": [
    "### Method 1"
   ]
  },
  {
   "cell_type": "code",
   "execution_count": 2,
   "metadata": {},
   "outputs": [],
   "source": [
    "class Solution(object):\n",
    "    def canFinish(self, numCourses, prerequisites):\n",
    "        \"\"\"\n",
    "        :type numCourses: int\n",
    "        :type prerequisites: List[List[int]]\n",
    "        :rtype: bool\n",
    "        \"\"\"\n",
    "        degree = [0] * numCourses\n",
    "        kids = [[] for n in range(numCourses)]\n",
    "        for pair in prerequisites:\n",
    "            degree[pair[0]] += 1\n",
    "            kids[pair[1]].append(pair[0])\n",
    "                 \n",
    "        courses = set(range(numCourses))\n",
    "        flag = True\n",
    "        \n",
    "        while flag and len(courses):\n",
    "            flag = False\n",
    "            remove_list = []\n",
    "            for x in courses:\n",
    "                if degree[x] == 0:\n",
    "                    for kid in kids[x]:\n",
    "                        degree[kid] -= 1\n",
    "                    remove_list.append(x)\n",
    "                    flag = True\n",
    "            for y in remove_list:\n",
    "                courses.remove(y)\n",
    "        return len(courses) == 0\n",
    "                 \n",
    "        "
   ]
  },
  {
   "cell_type": "markdown",
   "metadata": {},
   "source": [
    "### Method 2"
   ]
  },
  {
   "cell_type": "code",
   "execution_count": 3,
   "metadata": {},
   "outputs": [],
   "source": [
    "class Solution(object):\n",
    "    def canFinish(self, numCourses, prerequisites):\n",
    "        \"\"\"\n",
    "        :type numCourses: int\n",
    "        :type prerequisites: List[List[int]]\n",
    "        :rtype: bool\n",
    "        \"\"\"\n",
    "        graph = collections.defaultdict(list)\n",
    "        indegree = collections.defaultdict(int)\n",
    "        for u,v in prerequisites:\n",
    "            graph[v].append(u) # list of prerequisites\n",
    "            indegree[u] += 1 \n",
    "        for n in range(numCourses): # for every courses\n",
    "            zeroDegree = False\n",
    "            for j in range(numCourses): \n",
    "                if indegree[j] == 0: #indegree == 0, means no prerequiste required\n",
    "                    zeroDegree = True\n",
    "                    break\n",
    "            if not zeroDegree: return False\n",
    "            indegree[j] = -1\n",
    "            for node in graph[j]:\n",
    "                indegree[node] -= 1\n",
    "        return True"
   ]
  },
  {
   "cell_type": "code",
   "execution_count": null,
   "metadata": {},
   "outputs": [],
   "source": []
  }
 ],
 "metadata": {
  "kernelspec": {
   "display_name": "Python 3",
   "language": "python",
   "name": "python3"
  },
  "language_info": {
   "codemirror_mode": {
    "name": "ipython",
    "version": 3
   },
   "file_extension": ".py",
   "mimetype": "text/x-python",
   "name": "python",
   "nbconvert_exporter": "python",
   "pygments_lexer": "ipython3",
   "version": "3.6.8"
  }
 },
 "nbformat": 4,
 "nbformat_minor": 2
}
