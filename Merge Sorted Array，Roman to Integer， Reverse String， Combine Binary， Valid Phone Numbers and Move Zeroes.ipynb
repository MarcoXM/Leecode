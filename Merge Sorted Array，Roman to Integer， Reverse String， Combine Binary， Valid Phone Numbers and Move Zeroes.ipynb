{
 "cells": [
  {
   "cell_type": "markdown",
   "metadata": {},
   "source": []
  },
  {
   "cell_type": "markdown",
   "metadata": {},
   "source": [
    "## 88. Merge Sorted Array"
   ]
  },
  {
   "cell_type": "markdown",
   "metadata": {},
   "source": [
    "### Method 1"
   ]
  },
  {
   "cell_type": "code",
   "execution_count": 4,
   "metadata": {},
   "outputs": [],
   "source": [
    "class Solution(object):\n",
    "    def merge(self, nums1, m, nums2, n):\n",
    "        \"\"\"\n",
    "        :type nums1: List[int]\n",
    "        :type m: int\n",
    "        :type nums2: List[int]\n",
    "        :type n: int\n",
    "        :rtype: None Do not return anything, modify nums1 in-place instead.\n",
    "        \"\"\"\n",
    "        nums = [None] *(n + m)\n",
    "        i = 0\n",
    "        j = 0\n",
    "        k = 0\n",
    "        while i<m and j <n:\n",
    "            if nums1[i]<nums2[j]:\n",
    "                nums[k] = nums1[i]\n",
    "                i += 1\n",
    "                k += 1\n",
    "            else:\n",
    "                nums[k] = nums2[j]\n",
    "                j += 1\n",
    "                k += 1\n",
    "        if i == m :\n",
    "            while k < m + n:\n",
    "                nums[k] = nums2[j]\n",
    "                j += 1\n",
    "                k += 1\n",
    "        else:\n",
    "            while k < m + n:\n",
    "                nums[k] = nums1[i]\n",
    "                i += 1\n",
    "                k += 1\n",
    "        for i in range(m + n):\n",
    "            nums1[i] = nums[i]\n",
    "        return nums1"
   ]
  },
  {
   "cell_type": "markdown",
   "metadata": {},
   "source": [
    "## 13. Roman to Integer"
   ]
  },
  {
   "cell_type": "markdown",
   "metadata": {},
   "source": [
    "### Method 1"
   ]
  },
  {
   "cell_type": "code",
   "execution_count": 9,
   "metadata": {},
   "outputs": [],
   "source": [
    "class Solution(object):\n",
    "    def romanToInt(self, s):\n",
    "        \"\"\"\n",
    "        :type s: str\n",
    "        :rtype: int\n",
    "        \"\"\"\n",
    "        map_ = {'I':1,'V':5,'X':10,'L':50,'C':100,'D':500,'M':1000}\n",
    "        s = s[::-1]\n",
    "        value = [ map_[i] for i in s]\n",
    "        sum_ = 0\n",
    "        max_ = 1\n",
    "        for i in range(len(s)):\n",
    "            if value[i] >= max_:\n",
    "                sum_ += value[i]\n",
    "                max_ = value[i]\n",
    "            else:\n",
    "                sum_ -= value[i]\n",
    "        return sum_"
   ]
  },
  {
   "cell_type": "markdown",
   "metadata": {},
   "source": [
    "### Method 2"
   ]
  },
  {
   "cell_type": "code",
   "execution_count": 10,
   "metadata": {},
   "outputs": [],
   "source": [
    "class Solution(object):\n",
    "    def romanToInt(self, s):\n",
    "        \"\"\"\n",
    "        :type s: str\n",
    "        :rtype: int\n",
    "        \"\"\"\n",
    "        map_ = {'I':1,'V':5,'X':10,'L':50,'C':100,'D':500,'M':1000}\n",
    "        s = s[::-1]\n",
    "        value = [ map_[i] for i in s]\n",
    "        sum_ = value[0]\n",
    "        for i in range(len(s)-1):\n",
    "            curr = value[i]\n",
    "            pre = value[i+1]\n",
    "            sum_ += pre if pre >= curr else -pre\n",
    "        return sum_"
   ]
  },
  {
   "cell_type": "markdown",
   "metadata": {},
   "source": [
    "## 344. Reverse String"
   ]
  },
  {
   "cell_type": "markdown",
   "metadata": {},
   "source": [
    "### Method 1"
   ]
  },
  {
   "cell_type": "code",
   "execution_count": 13,
   "metadata": {},
   "outputs": [],
   "source": [
    "class Solution(object):\n",
    "    def reverseString(self, s):\n",
    "        \"\"\"\n",
    "        :type s: List[str]\n",
    "        :rtype: None Do not return anything, modify s in-place instead.\n",
    "        \"\"\"\n",
    "        m = 0\n",
    "        n = len(s) - 1\n",
    "        while m<n:\n",
    "            s[m],s[n] = s[n],s[m]\n",
    "            m += 1\n",
    "            n -= 1\n",
    "        return s"
   ]
  },
  {
   "cell_type": "markdown",
   "metadata": {},
   "source": [
    "## Combine Binary"
   ]
  },
  {
   "cell_type": "markdown",
   "metadata": {},
   "source": [
    "### Method 1"
   ]
  },
  {
   "cell_type": "code",
   "execution_count": 14,
   "metadata": {},
   "outputs": [],
   "source": [
    "class Solution(object):\n",
    "    def addBinary(self, a, b):\n",
    "        \"\"\"\n",
    "        :type a: str\n",
    "        :type b: str\n",
    "        :rtype: str\n",
    "        \"\"\"\n",
    "        max_l = max(len(a),len(b)) + 1\n",
    "        if len(a) <= len(b):\n",
    "            a = '0' * ( len(b) - len(a) ) + a\n",
    "        else:\n",
    "            b = '0' * ( len(a) - len(b) ) + b\n",
    "        \n",
    "        sum_ = [ '0' for i in range(max_l)]\n",
    "        sign = 0\n",
    "        i = len(a) - 1\n",
    "        while i >= 0:\n",
    "            if int(a[i]) + int(b[i]) + sign == 3:\n",
    "                sum_[i + 1] = '1'\n",
    "                sign = 1\n",
    "            elif int(a[i]) + int(b[i]) + sign == 2:\n",
    "                sum_[i + 1] = '0'\n",
    "                sign = 1\n",
    "            elif int(a[i]) + int(b[i]) + sign == 1:\n",
    "                sum_[i + 1] = '1'\n",
    "                sign = 0\n",
    "            else:\n",
    "                sum_[i + 1] = '0'\n",
    "                sign = 0\n",
    "            i -= 1\n",
    "        if sign == 1:\n",
    "            sum_[0] = '1'\n",
    "        elif sign == 0:\n",
    "            sum_ = sum_[1:]\n",
    "            \n",
    "        return ''.join(sum_)"
   ]
  },
  {
   "cell_type": "markdown",
   "metadata": {},
   "source": [
    "## 193. Valid Phone Numbers"
   ]
  },
  {
   "cell_type": "markdown",
   "metadata": {},
   "source": [
    "### Method 1"
   ]
  },
  {
   "cell_type": "code",
   "execution_count": null,
   "metadata": {},
   "outputs": [],
   "source": [
    "awk '/^([0-9]{3}-|\\([0-9]{3}\\) )[0-9]{3}-[0-9]{4}$/' file.txt"
   ]
  },
  {
   "cell_type": "markdown",
   "metadata": {},
   "source": [
    "### Method 2"
   ]
  },
  {
   "cell_type": "code",
   "execution_count": null,
   "metadata": {},
   "outputs": [],
   "source": [
    "less file.txt | grep -P  '^(\\d{3}-|\\(\\d{3}\\) )\\d{3}-\\d{4}$'"
   ]
  },
  {
   "cell_type": "markdown",
   "metadata": {},
   "source": [
    "## 283. Move Zeroes"
   ]
  },
  {
   "cell_type": "markdown",
   "metadata": {},
   "source": [
    "### Method 1"
   ]
  },
  {
   "cell_type": "code",
   "execution_count": null,
   "metadata": {},
   "outputs": [],
   "source": [
    "class Solution(object):\n",
    "    def moveZeroes(self, nums):\n",
    "        \"\"\"\n",
    "        :type nums: List[int]\n",
    "        :rtype: None Do not return anything, modify nums in-place instead.\n",
    "        \"\"\"\n",
    "        y = 0 \n",
    "        for x in range(len(nums)):\n",
    "            if nums[x] != 0:\n",
    "                nums[x],nums[y] = nums[y],nums[x]\n",
    "                y += 1"
   ]
  }
 ],
 "metadata": {
  "kernelspec": {
   "display_name": "Python 3",
   "language": "python",
   "name": "python3"
  },
  "language_info": {
   "codemirror_mode": {
    "name": "ipython",
    "version": 3
   },
   "file_extension": ".py",
   "mimetype": "text/x-python",
   "name": "python",
   "nbconvert_exporter": "python",
   "pygments_lexer": "ipython3",
   "version": "3.6.8"
  }
 },
 "nbformat": 4,
 "nbformat_minor": 2
}
