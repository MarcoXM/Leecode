{
 "cells": [
  {
   "cell_type": "markdown",
   "metadata": {},
   "source": [
    "## Lowest Common Ancestor of a Binary Tree"
   ]
  },
  {
   "cell_type": "markdown",
   "metadata": {},
   "source": [
    "### Method 1"
   ]
  },
  {
   "cell_type": "code",
   "execution_count": null,
   "metadata": {},
   "outputs": [],
   "source": [
    "# Definition for a binary tree node.\n",
    "# class TreeNode(object):\n",
    "#     def __init__(self, x):\n",
    "#         self.val = x\n",
    "#         self.left = None\n",
    "#         self.right = None\n",
    "\n",
    "class Solution:\n",
    "    # @param {TreeNode} root\n",
    "    # @param {TreeNode} p\n",
    "    # @param {TreeNode} q\n",
    "    # @return {TreeNode}\n",
    "    def lowestCommonAncestor(self, root, p, q):\n",
    "        pathp, pathq = self.findpath(root,p), self(root,q) # find the path from root to q or p.\n",
    "        lenp, lenq = len(pathp), len(pathq)\n",
    "        ans, n = None, 0\n",
    "        while n < min(lenp,lenq) and pathp[x] == pathq[x]:\n",
    "            ans, x = pathq[x], x + 1\n",
    "        return ans\n",
    "    \n",
    "    def findpath(self,root,point):\n",
    "        path = []\n",
    "        last_point = None\n",
    "        while path or last_point:\n",
    "            if root: #left \n",
    "                path.append(root)\n",
    "                root = root.left\n",
    "            \n",
    "            else: # right \n",
    "                pick = path[-1]\n",
    "                if pick.right and last_point != pick.right:\n",
    "                    root = pick.right\n",
    "                else:\n",
    "                    if pick == point:\n",
    "                        return path\n",
    "                    last_point = path.pop()\n",
    "                    root = None\n",
    "        return path\n",
    "        "
   ]
  },
  {
   "cell_type": "markdown",
   "metadata": {},
   "source": [
    "### Method 2"
   ]
  },
  {
   "cell_type": "code",
   "execution_count": null,
   "metadata": {},
   "outputs": [],
   "source": [
    "# Definition for a binary tree node. recursively\n",
    "# class TreeNode(object):\n",
    "#     def __init__(self, x):\n",
    "#         self.val = x\n",
    "#         self.left = None\n",
    "#         self.right = None\n",
    "\n",
    "class Solution:\n",
    "    # @param {TreeNode} root\n",
    "    # @param {TreeNode} p\n",
    "    # @param {TreeNode} q\n",
    "    # @return {TreeNode}\n",
    "    def lowestCommonAncestor(self, root, p, q):\n",
    "        if not root or p == root or q == root: #you are a candidate of your ancestors\n",
    "            return root\n",
    "        \n",
    "        left = self.lowestCommonAncestor(root.left, p, q)\n",
    "        right = self.lowestCommonAncestor(root.right, p, q) # what means your right side\n",
    "        \n",
    "        if left and right: #if exist!!\n",
    "            return root\n",
    "        \n",
    "        return left if left else right"
   ]
  }
 ],
 "metadata": {
  "kernelspec": {
   "display_name": "Python 3",
   "language": "python",
   "name": "python3"
  },
  "language_info": {
   "codemirror_mode": {
    "name": "ipython",
    "version": 3
   },
   "file_extension": ".py",
   "mimetype": "text/x-python",
   "name": "python",
   "nbconvert_exporter": "python",
   "pygments_lexer": "ipython3",
   "version": "3.6.8"
  }
 },
 "nbformat": 4,
 "nbformat_minor": 2
}
